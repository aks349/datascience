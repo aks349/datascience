{
 "cells": [
  {
   "cell_type": "markdown",
   "id": "74f4fb1c-9080-483f-b673-a1bbb6832372",
   "metadata": {},
   "source": [
    " # Data Science Tools and Ecosystem"
   ]
  },
  {
   "cell_type": "markdown",
   "id": "5898416e-7aec-44f1-98c2-fd1712b6001e",
   "metadata": {},
   "source": [
    "In this notebook, Data Science Tools and Ecosystem are summarized."
   ]
  },
  {
   "cell_type": "markdown",
   "id": "85f269f7-b21d-4824-95ce-03c1559f7774",
   "metadata": {},
   "source": [
    "some of the popular languages that Data Scientists use are:\n",
    "1. Python\n",
    "2. R\n",
    "3. Java\n",
    "4. Sql"
   ]
  },
  {
   "cell_type": "markdown",
   "id": "1d3ee0f0-ec5b-441c-82b5-b28676366aad",
   "metadata": {},
   "source": [
    "Some of the commonly used libraries used by Data Scientists include:\n",
    "1. Tensorflow\n",
    "2. Numpy\n",
    "3. Scipy\n",
    "4. Pandas"
   ]
  },
  {
   "cell_type": "markdown",
   "id": "8172aef4-bbc1-4ccc-b345-11706c405775",
   "metadata": {},
   "source": [
    "|Data Science Tools|\n",
    "--------------------\n",
    "|Apache Spark|\n",
    "|Tableau|\n",
    "|MATLAB|\n",
    "|TensorFlow|"
   ]
  },
  {
   "cell_type": "markdown",
   "id": "8000a10c-8ba3-4d78-80fe-d0eb38bad018",
   "metadata": {},
   "source": [
    "### Below are a few examples of evaluating arithmetic expressions in Python\n"
   ]
  },
  {
   "cell_type": "code",
   "execution_count": 2,
   "id": "abcdab8b-656a-42aa-97bf-d24ae08a284c",
   "metadata": {
    "tags": []
   },
   "outputs": [
    {
     "data": {
      "text/plain": [
       "17"
      ]
     },
     "execution_count": 2,
     "metadata": {},
     "output_type": "execute_result"
    }
   ],
   "source": [
    "(3*4)+5\n",
    "#This a simple arithmetic expression to mutiply then add integers"
   ]
  },
  {
   "cell_type": "code",
   "execution_count": 6,
   "id": "094bc70c-8866-498a-b55b-1c45b89a6a8c",
   "metadata": {
    "tags": []
   },
   "outputs": [
    {
     "name": "stdout",
     "output_type": "stream",
     "text": [
      "3.3333333333333335\n"
     ]
    }
   ],
   "source": [
    "min = 200\n",
    "hrs = (min)/60\n",
    "print(hrs)\n",
    "#This will convert 200 minutes to hours by diving by 60"
   ]
  },
  {
   "cell_type": "markdown",
   "id": "35c49c0b-81f7-4085-8dff-80403c69c2b3",
   "metadata": {},
   "source": [
    "**Objectives:**\n",
    "List popular languages for Data Science.\n",
    "* Python\n",
    "* R\n",
    "* SQL\n",
    "* Java"
   ]
  },
  {
   "cell_type": "markdown",
   "id": "61d0bcee-8caa-4454-a785-af9704ec1d23",
   "metadata": {},
   "source": [
    "## Author\n",
    "Aniket kr singh"
   ]
  },
  {
   "cell_type": "code",
   "execution_count": null,
   "id": "afe70e5f-5dad-49de-9ab2-24fa1c12c7cd",
   "metadata": {},
   "outputs": [],
   "source": []
  }
 ],
 "metadata": {
  "kernelspec": {
   "display_name": "Python",
   "language": "python",
   "name": "conda-env-python-py"
  },
  "language_info": {
   "codemirror_mode": {
    "name": "ipython",
    "version": 3
   },
   "file_extension": ".py",
   "mimetype": "text/x-python",
   "name": "python",
   "nbconvert_exporter": "python",
   "pygments_lexer": "ipython3",
   "version": "3.7.12"
  }
 },
 "nbformat": 4,
 "nbformat_minor": 5
}
